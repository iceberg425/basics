{
 "cells": [
  {
   "cell_type": "markdown",
   "metadata": {},
   "source": [
    "## All Basics in One Place!"
   ]
  },
  {
   "cell_type": "code",
   "execution_count": 5,
   "metadata": {},
   "outputs": [
    {
     "name": "stdout",
     "output_type": "stream",
     "text": [
      "Enter Username: s\n",
      "Password:········\n",
      "Username or password is not correct, access denied\n"
     ]
    }
   ],
   "source": [
    "import getpass\n",
    "username = \"Ryan\"\n",
    "password = \"ysk%123\"\n",
    "\n",
    "def day_planner(time_h_now):\n",
    "    daily_task    = {10: 'Programming Lecture, Room A',\n",
    "                     12: 'Computer Vision Lecture, Room C',\n",
    "                     13: 'Lunch @Cafeteria!',\n",
    "                     15: 'Group Project Meeting, Room E'}\n",
    "\n",
    "    for task_time in daily_task.keys():\n",
    "        if time_h_now <= task_time:\n",
    "            print('You should attend:', daily_task[task_time])\n",
    "            break\n",
    "        \n",
    "input_username = input(\"Enter Username: \")\n",
    "input_password = getpass.getpass('Password:')\n",
    "\n",
    "if username == input_username and input_password == password:\n",
    "    print(\"Access granted, Welcome to the system\")\n",
    "    time_h_now = float(input(\"What's the time now [Use 24h format]? Insert Time between 8AM-3PM [8-15]?\"))\n",
    "    \n",
    "    day_planner(time_h_now)\n",
    "    \n",
    "    myfile = open(\"Lecture_Notes.txt\")\n",
    "    print(myfile.read())\n",
    "\n",
    "else:\n",
    "    print(\"Username or password is not correct, access denied\")"
   ]
  },
  {
   "cell_type": "markdown",
   "metadata": {},
   "source": [
    "# 1. Convert speed from Km/h to miles per hour"
   ]
  },
  {
   "cell_type": "code",
   "execution_count": null,
   "metadata": {},
   "outputs": [],
   "source": [
    "kmh = int(input(\"Enter speed in km/h: \"))\n",
    "mph =  0.6214 * kmh\n",
    "print(\"Speed in Km per hour =\", kmh, \"KM/H\")\n",
    "print(\"Speed in Miles per hour =\", mph, \"MPH\")"
   ]
  },
  {
   "cell_type": "markdown",
   "metadata": {},
   "source": [
    "# 2. Basic Mathematical Operations in Matrices"
   ]
  },
  {
   "cell_type": "code",
   "execution_count": null,
   "metadata": {
    "scrolled": true
   },
   "outputs": [],
   "source": [
    "import numpy as np\n",
    "a = np.array([[3, 9], \n",
    "                 [8, 5]]) \n",
    "b = np.array([[2, 3], \n",
    "                 [1, 7]]) \n",
    "  \n",
    "print (\"Matrices Addition = \\n\", np.add(a, b)) \n",
    "  \n",
    "print (\"Matrices Subtraction = \\n\", np.subtract(a, b)) \n",
    "  \n",
    "print (\"Matrices Multiplication = \\n\", np.divide(a, b)) \n",
    "\n",
    "print (\"Matrix Transpose = \\n\", a.T) \n",
    "\n",
    "print (\"Element by element multiplication = \\n\", np.multiply(a,b)) \n",
    "\n",
    "print (\"Matrices Product = \\n\", np.dot(a,b)) \n",
    "\n",
    "print (\"Element by element square root = \\n\", np.sqrt(a)) \n",
    "\n",
    "print (\"Summation of all matrix elements = \\n\", np.sum(a)) \n",
    "  \n",
    "print (\"Column wise summation = \\n \", np.sum(a, axis = 0)) \n",
    "  \n",
    "print (\"Row wise summation = \\n\", np.sum(a, axis = 1)) \n",
    "  "
   ]
  },
  {
   "cell_type": "markdown",
   "metadata": {},
   "source": [
    "# 3. Basic Plotting and visualizaiton Using MatPlotlib\n"
   ]
  },
  {
   "cell_type": "code",
   "execution_count": null,
   "metadata": {},
   "outputs": [],
   "source": [
    "import numpy as np\n",
    "import matplotlib.pyplot as plt\n",
    "%matplotlib inline  \n",
    "\n",
    "t = np.linspace(1, 10, 10)\n",
    "y = np.array([2, 4, 1, 6, 9, 2, 4, 5, 7, 19])\n",
    "plt.plot(t, y)\n",
    "plt.title('My First Plotting Exercise!')\n"
   ]
  },
  {
   "cell_type": "code",
   "execution_count": null,
   "metadata": {},
   "outputs": [],
   "source": [
    "x = np.linspace(0, 3*np.pi, 500)\n",
    "plt.plot(x, np.sin(x**2))\n",
    "plt.title('Chirp Plot')\n"
   ]
  },
  {
   "cell_type": "markdown",
   "metadata": {},
   "source": [
    "# 2. Fortune Teller in Python"
   ]
  },
  {
   "cell_type": "code",
   "execution_count": null,
   "metadata": {},
   "outputs": [],
   "source": [
    "import random\n",
    "\n",
    "answer = 'y'\n",
    "\n",
    "print('Welcome to the Fortune Teller!')\n",
    "print('You will select a color and a number and I will tell you what the future holds for you!')\n",
    "\n",
    "while answer == 'y':\n",
    "    \n",
    "    color = input(\"Select a colour [yellow, green, blue, red] \")\n",
    "        \n",
    "    if color == \"yellow\" or color ==\"green\":\n",
    "        number = int(input(\"Select a number [1, 2, 5, 6]\"))\n",
    "        if number == 1:\n",
    "              print(\"Worried about your future career? Don't worry. You'll 100% get what you want, be patient!\")\n",
    "        elif number == 2:\n",
    "              print(\"You will become a millionaire at the age of 35!\")\n",
    "        elif number == 5:\n",
    "              print(\"You will have a great family with 10 kids!\")\n",
    "        elif number == 6:\n",
    "              print(\"You will become famous and everyone will love you!\")\n",
    "        else:\n",
    "              print(\"Numbers 1, 2, 5, 6 are the only numbers allowed\")\n",
    "    \n",
    "    elif color == \"blue\" or color == \"red\":\n",
    "        number = int(input(\"Select a number [3, 4, 7, 8]\"))\n",
    "        if number == 3:\n",
    "              print(\"You will live a happy life for 100 years at least!\")\n",
    "        elif number == 4:\n",
    "              print(\"You will become a successful doctor one day!\")\n",
    "        elif number == 7:\n",
    "              print(\"All your dreams will come true, just be patient!\")\n",
    "        elif number == 8:\n",
    "              print(\"You're lucky, You will have it all one day!\")\n",
    "        else:\n",
    "              print(\"Numbers 3, 4, 7, 8 are the only numbers allowed\")\n",
    "    else:\n",
    "        print(\"Colors [yellow, green, blue, red] are only allowed\")\n",
    "    \n",
    "    answer = input(\"Play again? insert 'y' for YES or 'n' for NO\")\n"
   ]
  },
  {
   "cell_type": "markdown",
   "metadata": {},
   "source": [
    "# 3. Get Your Zodiac Sign and age based on user Input date!"
   ]
  },
  {
   "cell_type": "code",
   "execution_count": null,
   "metadata": {},
   "outputs": [],
   "source": [
    "from datetime import date\n",
    "import os\n",
    "\n",
    "Year = input(\"What's your year of birth? [ex: 1992]\" )\n",
    "Month = input(\"What's your month of birth? [ex: 10]\" )\n",
    "Day = input(\"What's your day of birth? [ex: 25]\" )\n",
    "\n",
    "print('Your Date of Birth is ', (Day + \"/\" + Month + \"/\" + Year))\n",
    "\n",
    "today_day = date.today()\n",
    "\n",
    "age = today_day.year - int(Year)\n",
    "print('You are', age, 'years old')\n",
    "\n",
    "if ((int(Month)==12 and int(Day) >= 22)or(int(Month)==1 and int(Day)<= 19)):\n",
    "    sign = (\"\\n Capricorn\")\n",
    "elif ((int(Month)==1 and int(Day) >= 20)or(int(Month)==2 and int(Day)<= 17)):\n",
    "    sign = (\"\\n aquarium\")\n",
    "elif ((int(Month)==2 and int(Day) >= 18)or(int(Month)==3 and int(Day)<= 19)):\n",
    "    sign = (\"\\n Pices\")\n",
    "elif ((int(Month)==3 and int(Day) >= 20)or(int(Month)==4 and int(Day)<= 19)):\n",
    "    sign = (\"\\n Aries\")\n",
    "elif ((int(Month)==4 and int(Day) >= 20)or(int(Month)==5 and int(Day)<= 20)):\n",
    "    sign = (\"\\n Taurus\")\n",
    "elif ((int(Month)==5 and int(Day) >= 21)or(int(Month)==6 and int(Day)<= 20)):\n",
    "    sign = (\"\\n Gemini\")\n",
    "elif ((int(Month)==6 and int(Day) >= 21)or(int(Month)==7 and int(Day)<= 22)):\n",
    "    sign = (\"\\n Cancer\")\n",
    "elif ((int(Month)==7 and int(Day) >= 23)or(int(Month)==8 and int(Day)<= 22)): \n",
    "    sign = (\"\\n Leo\")\n",
    "elif ((int(Month)==8 and int(Day) >= 23)or(int(Month)==9 and int(Day)<= 22)): \n",
    "    sign = (\"\\n Virgo\")\n",
    "elif ((int(Month)==9 and int(Day) >= 23)or(int(Month)==10 and int(Day)<= 22)):\n",
    "    sign = (\"\\n Libra\")\n",
    "elif ((int(Month)==10 and int(Day) >= 23)or(int(Month)==11 and int(Day)<= 21)): \n",
    "    sign = (\"\\n Scorpio\")\n",
    "elif ((int(Month)==11 and int(Day) >= 22)or(int(Month)==12 and int(Day)<= 21)):\n",
    "    sign = (\"\\n Sagittarius\")\n",
    "\n",
    "print(sign)\n"
   ]
  },
  {
   "cell_type": "markdown",
   "metadata": {},
   "source": [
    "# 2. Display Calendar"
   ]
  },
  {
   "cell_type": "code",
   "execution_count": null,
   "metadata": {
    "scrolled": true
   },
   "outputs": [],
   "source": [
    "import calendar\n",
    "year = int(input(\"Enter year [i.e.: 2019]: \"))\n",
    "month = int(input(\"Enter month [i.e.: 03]: \"))\n",
    "print(calendar.month(year, month))"
   ]
  },
  {
   "cell_type": "markdown",
   "metadata": {},
   "source": [
    "# 2. Find numbers divisible by 2 in a list (Even Numbers)"
   ]
  },
  {
   "cell_type": "code",
   "execution_count": null,
   "metadata": {},
   "outputs": [],
   "source": [
    "numbers = [6, 17, 55, 22, 120, 59, 220, 200, 1]\n",
    "\n",
    "# filter creates a list of elements for which a function returns true\n",
    "even = list(filter(lambda x: (x % 2 == 0), numbers))\n",
    "\n",
    "print(\"Numbers divisible by 2 are\", even)"
   ]
  },
  {
   "cell_type": "markdown",
   "metadata": {},
   "source": [
    "# 3. Find Numbers that are greater than zero "
   ]
  },
  {
   "cell_type": "code",
   "execution_count": null,
   "metadata": {},
   "outputs": [],
   "source": [
    "numbers = range(-20, 20)\n",
    "greater_than_zero = list(filter(lambda x: x > 0, numbers))\n",
    "print(greater_than_zero)\n"
   ]
  },
  {
   "cell_type": "markdown",
   "metadata": {},
   "source": [
    "# 4. Find the square of a number list"
   ]
  },
  {
   "cell_type": "code",
   "execution_count": null,
   "metadata": {},
   "outputs": [],
   "source": [
    "def squared(x):\n",
    "    return (x*x)\n",
    "\n",
    "numbers = range(-20, 20)\n",
    "numbers_squared = list(map(lambda x: squared(x), numbers))\n",
    "print(numbers_squared)"
   ]
  },
  {
   "cell_type": "markdown",
   "metadata": {},
   "source": [
    "# 5. Display the Multiplication table for a given user input number"
   ]
  },
  {
   "cell_type": "code",
   "execution_count": null,
   "metadata": {},
   "outputs": [],
   "source": [
    "number = int(input(\"Enter a number between 1 and 9: \"))\n",
    "for i in range(1, 11):\n",
    "    \n",
    "   print(number, 'x', i, '=', number * i)"
   ]
  },
  {
   "cell_type": "markdown",
   "metadata": {},
   "source": [
    "# 6. Sort Words in an alphatebical order"
   ]
  },
  {
   "cell_type": "code",
   "execution_count": null,
   "metadata": {},
   "outputs": [],
   "source": [
    "string = input(\"Enter a sentence explaining how do you feel today?!: \")\n",
    "\n",
    "words = string.split()\n",
    "words.sort()\n",
    "\n",
    "print(\"Words are sorted as follows:\")\n",
    "for word in words:\n",
    "   print(word)"
   ]
  },
  {
   "cell_type": "markdown",
   "metadata": {},
   "source": [
    "# 7. Convert Celcuis to Fahrenheit"
   ]
  },
  {
   "cell_type": "code",
   "execution_count": null,
   "metadata": {},
   "outputs": [],
   "source": [
    "Celsius = int(input(\"Enter Temperature in Degree Celsius: \"))\n",
    "\n",
    "Fahrenheit = 9.0/5.0 * Celsius + 32\n",
    "\n",
    "print(\"Temperature in Celsius:\", Celsius, \"degC\")\n",
    "print(\"Temperature in Fahrenheit:\", Fahrenheit, \" F\")\n"
   ]
  },
  {
   "cell_type": "markdown",
   "metadata": {},
   "source": [
    "# 8. Search Computer for text files "
   ]
  },
  {
   "cell_type": "code",
   "execution_count": null,
   "metadata": {},
   "outputs": [],
   "source": [
    "import fnmatch\n",
    "import os\n",
    "    \n",
    "# path = os.getcwd()\n",
    " \n",
    "path = r'C:\\Users\\Dr. Ryan\\Desktop\\Python General Course'    \n",
    "    \n",
    "# os.walk returns a generator, that creates a tuple of values \n",
    "# (current_path, directories in current_path, files in current_path).    \n",
    "    \n",
    "for root, directories, files in os.walk(path):\n",
    "    for filename in fnmatch.filter(files, '*.txt'):\n",
    "        print( os.path.join(root, filename))"
   ]
  },
  {
   "cell_type": "markdown",
   "metadata": {},
   "source": [
    "# 9. Search All Types of images on Computer  "
   ]
  },
  {
   "cell_type": "code",
   "execution_count": null,
   "metadata": {},
   "outputs": [],
   "source": [
    "import fnmatch\n",
    "import os\n",
    "\n",
    "img_extension = ['*.jpg', '*.jpeg', '*.png']\n",
    "found_images = []\n",
    "\n",
    "path = r'C:\\Users\\Dr. Ryan\\Desktop\\Python General Course'    \n",
    "\n",
    "\n",
    "for root, directories, files in os.walk(path):\n",
    "    for i in img_extension:\n",
    "        for filename in fnmatch.filter(files, i):\n",
    "            found_images.append(os.path.join(root, filename))\n",
    "\n",
    "found_images            "
   ]
  },
  {
   "cell_type": "markdown",
   "metadata": {},
   "source": [
    "# 10. Create a rolling dice game"
   ]
  },
  {
   "cell_type": "code",
   "execution_count": null,
   "metadata": {},
   "outputs": [],
   "source": [
    "import random\n",
    "\n",
    "keep_rolling = \"y\"\n",
    "\n",
    "while keep_rolling == \"y\":\n",
    "    print(\"Rolling the dices, please wait!...\")\n",
    "    print(\"Rolling results for Dice #1:\", random.randint(1, 6))\n",
    "    print(\"Rolling results for Dice #2:\", random.randint(1, 6))\n",
    "\n",
    "    keep_rolling = input(\"Do you want to roll again?\")"
   ]
  },
  {
   "cell_type": "markdown",
   "metadata": {},
   "source": [
    "# 11. Create a password generator using password length input from user"
   ]
  },
  {
   "cell_type": "code",
   "execution_count": null,
   "metadata": {},
   "outputs": [],
   "source": [
    "import string\n",
    "import random\n",
    "\n",
    "# string.ascii_letters\n",
    "# string.punctuation\n",
    "# string.digits\n",
    "\n",
    "characters = string.ascii_letters + string.punctuation  + string.digits\n",
    "\n",
    "length = int(input('Enter the length of the password'))\n",
    "\n",
    "password = \"\"\n",
    "\n",
    "for i in range(0, length):\n",
    "    password = password + random.choice(characters)\n",
    "\n",
    "print(password)"
   ]
  },
  {
   "cell_type": "markdown",
   "metadata": {},
   "source": [
    "# 12. Develop a password-enabled security system "
   ]
  },
  {
   "cell_type": "code",
   "execution_count": null,
   "metadata": {},
   "outputs": [],
   "source": [
    "import getpass\n",
    "\n",
    "\n",
    "username = \"Ryan\"\n",
    "password = \"ysk%123\"\n",
    "\n",
    "input_username = input(\"Enter Username: \")\n",
    "#input_password = input(\"Enter Password: \")\n",
    "input_password = getpass.getpass('Password:')\n",
    "\n",
    "\n",
    "if username == input_username and input_password == password:\n",
    "    print(\"Access granted, Welcome to the system\")\n",
    "else:\n",
    "    print(\"Username or passord is not correct, access denied\")"
   ]
  },
  {
   "cell_type": "code",
   "execution_count": null,
   "metadata": {},
   "outputs": [],
   "source": [
    "time_h_now = float(input(\"What's the time now? [Insert Time in hours Using 24 hours format]?\"))\n",
    "\n",
    "daily_tasks = {7: 'Sleeping, Sweet Dreams!',\n",
    "               9: 'Commuting to work',\n",
    "              17: 'Working @Office',\n",
    "              18: 'Stuck in Traffic, Commuting back Home',\n",
    "              20: 'Eating Dinner',\n",
    "              22: 'Watching TV' }\n",
    "\n",
    "\n",
    "for task_time in daily_tasks.keys():\n",
    "    if time_h_now < task_time:\n",
    "        print(daily_tasks[task_time])\n",
    "        break\n",
    "else:\n",
    "    print('Sleeping')"
   ]
  },
  {
   "cell_type": "code",
   "execution_count": null,
   "metadata": {},
   "outputs": [],
   "source": [
    "time_now = localtime()\n",
    "hour = time_now.tm_hour"
   ]
  },
  {
   "cell_type": "code",
   "execution_count": null,
   "metadata": {},
   "outputs": [],
   "source": [
    "time_now"
   ]
  },
  {
   "cell_type": "code",
   "execution_count": null,
   "metadata": {},
   "outputs": [],
   "source": [
    "activities.keys()"
   ]
  },
  {
   "cell_type": "code",
   "execution_count": null,
   "metadata": {},
   "outputs": [],
   "source": [
    "Names = [Chanel, Mike, Ryan]\n",
    "password = {}\n",
    "\n",
    "import random"
   ]
  },
  {
   "cell_type": "code",
   "execution_count": null,
   "metadata": {},
   "outputs": [],
   "source": [
    "true_number = random.randint(1, 49)"
   ]
  },
  {
   "cell_type": "code",
   "execution_count": null,
   "metadata": {},
   "outputs": [],
   "source": [
    "guess_number = int(input(\"Enter your guess between 1 and 49: \"))\n"
   ]
  },
  {
   "cell_type": "code",
   "execution_count": null,
   "metadata": {},
   "outputs": [],
   "source": [
    "guess_number"
   ]
  },
  {
   "cell_type": "code",
   "execution_count": null,
   "metadata": {},
   "outputs": [],
   "source": []
  },
  {
   "cell_type": "markdown",
   "metadata": {},
   "source": [
    "# Get Horoscope Using WebScraping \n",
    "# Get Stocks data and plot them\n",
    "# Search twitter for tweets\n"
   ]
  },
  {
   "cell_type": "code",
   "execution_count": null,
   "metadata": {},
   "outputs": [],
   "source": []
  }
 ],
 "metadata": {
  "kernelspec": {
   "display_name": "Python 3",
   "language": "python",
   "name": "python3"
  },
  "language_info": {
   "codemirror_mode": {
    "name": "ipython",
    "version": 3
   },
   "file_extension": ".py",
   "mimetype": "text/x-python",
   "name": "python",
   "nbconvert_exporter": "python",
   "pygments_lexer": "ipython3",
   "version": "3.5.6"
  }
 },
 "nbformat": 4,
 "nbformat_minor": 2
}
